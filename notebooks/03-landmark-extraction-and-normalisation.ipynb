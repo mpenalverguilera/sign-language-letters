{
 "cells": [
  {
   "cell_type": "markdown",
   "id": "1cee9891-4874-43ff-9818-176588adccc3",
   "metadata": {},
   "source": [
    "# Landmark Extraction & Normalisation – Quick Test  \n",
    "This notebook loads a few sample images, extracts the 21 MediaPipe hand landmarks,\n",
    "normalises them (centre at wrist, scale with peak-to-peak) and flattens to a\n",
    "63-element vector.  \n",
    "We will visualise the landmarks and ensure the helper functions work before\n",
    "processing the full dataset.\n"
   ]
  },
  {
   "cell_type": "code",
   "execution_count": 27,
   "id": "252a3098-17bc-4a48-99f5-cd9268598015",
   "metadata": {},
   "outputs": [],
   "source": [
    "from pathlib import Path\n",
    "import random\n",
    "import cv2\n",
    "import mediapipe as mp\n",
    "import numpy as np\n",
    "import matplotlib.pyplot as plt\n",
    "from sklearn.preprocessing import StandardScaler"
   ]
  },
  {
   "cell_type": "code",
   "execution_count": 28,
   "id": "f66140b6-bd4d-4804-a22b-70452ea5a220",
   "metadata": {},
   "outputs": [],
   "source": [
    "mp_hands = mp.solutions.hands.Hands(\n",
    "    static_image_mode=True,\n",
    "    max_num_hands=1,\n",
    "    model_complexity=1,\n",
    "    min_detection_confidence=0.5,\n",
    ")\n",
    "\n",
    "def get_landmarks(img_path: Path):\n",
    "    \"\"\"Return 21×3 landmarks or None if no hand is detected.\"\"\"\n",
    "    img_bgr = cv2.imread(str(img_path))\n",
    "    if img_bgr is None:\n",
    "        raise FileNotFoundError(img_path)\n",
    "    img_rgb = cv2.cvtColor(img_bgr, cv2.COLOR_BGR2RGB)\n",
    "    res = mp_hands.process(img_rgb)\n",
    "    if not res.multi_hand_landmarks:\n",
    "        return None\n",
    "    lm = res.multi_hand_landmarks[0]\n",
    "    return np.array([[p.x, p.y, p.z] for p in lm.landmark], dtype=np.float32)"
   ]
  },
  {
   "cell_type": "code",
   "execution_count": 29,
   "id": "3feb952f-7f30-480c-87ab-96799961393b",
   "metadata": {},
   "outputs": [
    {
     "name": "stderr",
     "output_type": "stream",
     "text": [
      "W0000 00:00:1751472352.362437   12073 inference_feedback_manager.cc:114] Feedback manager requires a model with a single signature inference. Disabling support for feedback tensors.\n",
      "W0000 00:00:1751472352.379918   12076 inference_feedback_manager.cc:114] Feedback manager requires a model with a single signature inference. Disabling support for feedback tensors.\n"
     ]
    }
   ],
   "source": [
    "def normalize_ptp(lm: np.ndarray) -> np.ndarray:\n",
    "    \"\"\"\n",
    "    Center at wrist and scale by global peak-to-peak.\n",
    "    Returns flattened 63-item vector.\n",
    "    \"\"\"\n",
    "    centred = lm - lm[0]                         # wrist → origin\n",
    "    scale = np.max(np.ptp(centred, axis=0)) or 1.0\n",
    "    filtered = centred[1:]  # drop wrist\n",
    "    return (filtered / scale).flatten()"
   ]
  },
  {
   "cell_type": "code",
   "execution_count": 39,
   "id": "e9d84476-f203-4b83-9189-b551adb157ef",
   "metadata": {},
   "outputs": [
    {
     "name": "stdout",
     "output_type": "stream",
     "text": [
      "Batch matrix: (20, 60)\n",
      "Max |mean|: 3.799796e-08\n",
      "Min/std: 0.9999999 Max/std: 1.0000001\n",
      "✔️ StandardScaler behaves as expected.\n"
     ]
    }
   ],
   "source": [
    "K = 20\n",
    "all_imgs = list(Path(\"../data/filtered/clean/A\").rglob(\"*.jpg\"))\n",
    "batch = random.sample(all_imgs, K)\n",
    "\n",
    "vecs = []\n",
    "for p in batch:\n",
    "    lm = get_landmarks(p)\n",
    "    if lm is None:\n",
    "        print(\"[skip]\", p.name)\n",
    "        continue\n",
    "    vecs.append(normalize_ptp(lm))\n",
    "\n",
    "X_batch = np.stack(vecs)\n",
    "print(\"Batch matrix:\", X_batch.shape)  # (<=K, 60)\n",
    "\n",
    "scaler = StandardScaler().fit(X_batch)\n",
    "X_scaled = scaler.transform(X_batch)\n",
    "\n",
    "means = X_scaled.mean(axis=0)\n",
    "stds  = X_scaled.std(axis=0)\n",
    "\n",
    "print(\"Max |mean|:\", np.abs(means).max())\n",
    "print(\"Min/std:\", stds.min(), \"Max/std:\", stds.max())  # all ~1\n",
    "\n",
    "assert np.allclose(means, 0, atol=1e-6)\n",
    "assert np.allclose(stds, 1, atol=1e-6)\n",
    "print(\"✔️ StandardScaler behaves as expected.\")"
   ]
  },
  {
   "cell_type": "code",
   "execution_count": null,
   "id": "116d3ed0-fa2d-4f20-9bc4-c5d6e874b017",
   "metadata": {},
   "outputs": [],
   "source": []
  }
 ],
 "metadata": {
  "kernelspec": {
   "display_name": "Python 3 (ipykernel)",
   "language": "python",
   "name": "python3"
  },
  "language_info": {
   "codemirror_mode": {
    "name": "ipython",
    "version": 3
   },
   "file_extension": ".py",
   "mimetype": "text/x-python",
   "name": "python",
   "nbconvert_exporter": "python",
   "pygments_lexer": "ipython3",
   "version": "3.10.18"
  }
 },
 "nbformat": 4,
 "nbformat_minor": 5
}
